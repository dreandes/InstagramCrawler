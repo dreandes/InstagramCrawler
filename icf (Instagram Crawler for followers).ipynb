{
 "cells": [
  {
   "cell_type": "code",
   "execution_count": 90,
   "metadata": {},
   "outputs": [],
   "source": [
    "!touch icf/__init__.py "
   ]
  },
  {
   "cell_type": "code",
   "execution_count": 89,
   "metadata": {},
   "outputs": [
    {
     "name": "stdout",
     "output_type": "stream",
     "text": [
      "Writing icf/icf_single.py\n"
     ]
    }
   ],
   "source": [
    "%%writefile icf/icf_single.py\n",
    "\n",
    "from selenium import webdriver\n",
    "import re\n",
    "from chromedriver_py import binary_path\n",
    "\n",
    "def searchInstaUser(user):\n",
    "    driver = webdriver.Chrome(executable_path=binary_path)\n",
    "    driver.get('https://www.instagram.com/instagram')\n",
    "    delay = 3\n",
    "    driver.implicitly_wait(delay)\n",
    "\n",
    "    driver.find_element_by_xpath('//*[@id=\"react-root\"]/section/nav/div[2]/div/div/div[2]/input').send_keys(user)\n",
    "    driver.find_element_by_xpath('//*[@id=\"react-root\"]/section/nav/div[2]/div/div/div[2]/div[2]/div[2]/div/a[1]/div').click()\n",
    "    \n",
    "    r = requests.get(driver.current_url).text\n",
    "    followers = re.search('\"edge_followed_by\":{\"count\":([0-9]+)}',r).group(1)\n",
    "    \n",
    "    driver.quit()\n",
    "    print(\"{} : {}\".format(user, followers))"
   ]
  },
  {
   "cell_type": "code",
   "execution_count": 83,
   "metadata": {},
   "outputs": [
    {
     "name": "stdout",
     "output_type": "stream",
     "text": [
      "chris eriksen : 2046453\n"
     ]
    }
   ],
   "source": [
    "searchInstaUser('chris eriksen')"
   ]
  },
  {
   "cell_type": "markdown",
   "metadata": {},
   "source": [
    "# TODO : error/exception 잡기"
   ]
  },
  {
   "cell_type": "code",
   "execution_count": 93,
   "metadata": {},
   "outputs": [
    {
     "name": "stdout",
     "output_type": "stream",
     "text": [
      "Writing icf/icf_multi.py\n"
     ]
    }
   ],
   "source": [
    "%%writefile icf/icf_multi.py\n",
    "\n",
    "from chromedriver_py import binary_path\n",
    "from selenium import webdriver\n",
    "from selenium.webdriver.common.by import By\n",
    "from selenium.webdriver.support.ui import WebDriverWait\n",
    "from selenium.webdriver.support import expected_conditions as EC\n",
    "import re\n",
    "from tqdm import tqdm\n",
    "\n",
    "\n",
    "def searchMultipleInstaUser(userList):\n",
    "\n",
    "    listUser = []\n",
    "    listFollower = []\n",
    "    a=0\n",
    "    \n",
    "    while a in tqdm(range(0, int(np.ceil((len(userList))/2)))):\n",
    "#        print(\"a = {}\".format(a))\n",
    "        driver = webdriver.Chrome(executable_path=binary_path)\n",
    "        driver.get('https://www.instagram.com/instagram')\n",
    "        delay = 3\n",
    "        driver.implicitly_wait(delay)\n",
    "\n",
    "        n = 0\n",
    "        while n < 2:\n",
    "            \n",
    "            try:\n",
    "                userNum = 2*a + n\n",
    "#                print(\"userNum: {}+{}={}\".format(a,n,userNum))\n",
    "                user = userList[userNum]\n",
    "                \n",
    "                driver.find_element_by_xpath('//*[@id=\"react-root\"]/section/nav/div[2]/div/div/div[2]/input').send_keys(user)\n",
    "                toNext = WebDriverWait(driver, 10).until(EC.element_to_be_clickable((By.XPATH, '//*[@id=\"react-root\"]/section/nav/div[2]/div/div/div[2]/div[2]/div[2]/div/a[1]/div')))\n",
    "                toNext.click()\n",
    "#                driver.find_element_by_xpath('//*[@id=\"react-root\"]/section/nav/div[2]/div/div/div[2]/div[2]/div[2]/div/a[1]/div').click()\n",
    "\n",
    "                r = requests.get(driver.current_url).text\n",
    "                followers = re.search('\"edge_followed_by\":{\"count\":([0-9]+)}',r).group(1)    \n",
    "            \n",
    "                if (r.find('\"is_verified\":true')!=-1):\n",
    "#                    print('{} : {}'.format(user, followers))\n",
    "                    listUser.append(user)\n",
    "                    listFollower.append(followers)\n",
    "                else:\n",
    "#                    print('{} : user not verified'.format(user))\n",
    "                    listUser.append(user)\n",
    "                    listFollower.append('user not verified')\n",
    "            \n",
    "                n += 1\n",
    "                continue\n",
    "                \n",
    "            except Exception:\n",
    "                driver.refresh()\n",
    "                listUser.append(user)\n",
    "                listFollower.append('Error')\n",
    "                break\n",
    "                \n",
    "            except IndexError:\n",
    "                driver.quit()\n",
    "                print(\"End of List: Terminating Instagram Crawler\")\n",
    "                return\n",
    "                    \n",
    "        driver.quit()\n",
    "        a += 1\n",
    "    return pd.DataFrame(list(zip(listUser, listFollower)), columns=[\"Users\", \"Followers\"])"
   ]
  },
  {
   "cell_type": "code",
   "execution_count": 87,
   "metadata": {},
   "outputs": [
    {
     "name": "stderr",
     "output_type": "stream",
     "text": [
      "  0%|          | 0/3 [00:00<?, ?it/s]\n",
      " 33%|███▎      | 1/3 [00:00<?, ?it/s]\n",
      " 67%|██████▋   | 2/3 [00:00<?, ?it/s]\n",
      "100%|██████████| 3/3 [00:00<00:00, 3008.83it/s]\n"
     ]
    },
    {
     "data": {
      "text/html": [
       "<div>\n",
       "<style scoped>\n",
       "    .dataframe tbody tr th:only-of-type {\n",
       "        vertical-align: middle;\n",
       "    }\n",
       "\n",
       "    .dataframe tbody tr th {\n",
       "        vertical-align: top;\n",
       "    }\n",
       "\n",
       "    .dataframe thead th {\n",
       "        text-align: right;\n",
       "    }\n",
       "</style>\n",
       "<table border=\"1\" class=\"dataframe\">\n",
       "  <thead>\n",
       "    <tr style=\"text-align: right;\">\n",
       "      <th></th>\n",
       "      <th>Users</th>\n",
       "      <th>Followers</th>\n",
       "    </tr>\n",
       "  </thead>\n",
       "  <tbody>\n",
       "    <tr>\n",
       "      <th>0</th>\n",
       "      <td>chris eriksen</td>\n",
       "      <td>2046455</td>\n",
       "    </tr>\n",
       "    <tr>\n",
       "      <th>1</th>\n",
       "      <td>leo messi</td>\n",
       "      <td>156831415</td>\n",
       "    </tr>\n",
       "    <tr>\n",
       "      <th>2</th>\n",
       "      <td>cristiano ronaldo</td>\n",
       "      <td>226594585</td>\n",
       "    </tr>\n",
       "    <tr>\n",
       "      <th>3</th>\n",
       "      <td>dreandes</td>\n",
       "      <td>user not verified</td>\n",
       "    </tr>\n",
       "    <tr>\n",
       "      <th>4</th>\n",
       "      <td>dohyunsra.composer</td>\n",
       "      <td>user not verified</td>\n",
       "    </tr>\n",
       "    <tr>\n",
       "      <th>5</th>\n",
       "      <td>dohyunsra.composer</td>\n",
       "      <td>Error</td>\n",
       "    </tr>\n",
       "  </tbody>\n",
       "</table>\n",
       "</div>"
      ],
      "text/plain": [
       "                Users          Followers\n",
       "0       chris eriksen            2046455\n",
       "1           leo messi          156831415\n",
       "2   cristiano ronaldo          226594585\n",
       "3            dreandes  user not verified\n",
       "4  dohyunsra.composer  user not verified\n",
       "5  dohyunsra.composer              Error"
      ]
     },
     "execution_count": 87,
     "metadata": {},
     "output_type": "execute_result"
    }
   ],
   "source": [
    "searchMultipleInstaUser(ul)"
   ]
  },
  {
   "cell_type": "code",
   "execution_count": 94,
   "metadata": {},
   "outputs": [
    {
     "name": "stdout",
     "output_type": "stream",
     "text": [
      "Overwriting icf/__init__.py\n"
     ]
    }
   ],
   "source": [
    "%%writefile icf/__init__.py\n",
    "\n",
    "__all__ = [\"icf_single\", \"icf_multi\"]"
   ]
  },
  {
   "cell_type": "code",
   "execution_count": 95,
   "metadata": {},
   "outputs": [
    {
     "name": "stdout",
     "output_type": "stream",
     "text": [
      "Writing ./setup.py\n"
     ]
    }
   ],
   "source": [
    "%%writefile ./setup.py\n",
    "\n",
    "from setuptools import setup, find_packages\n",
    "\n",
    "setup(\n",
    "    name=\"ICF (Instagram Crawler for Followers)\",\n",
    "    packages=find_packages(),\n",
    "    include_package_data=True,\n",
    "    version=\"0.0.1\",\n",
    "    author=\"GunhoKo\",\n",
    "    author_email=\"dreandes@gmail.com\",\n",
    "    zip_safe=False,\n",
    ")"
   ]
  },
  {
   "cell_type": "code",
   "execution_count": 97,
   "metadata": {},
   "outputs": [
    {
     "name": "stdout",
     "output_type": "stream",
     "text": [
      "Once deleted, variables cannot be recovered. Proceed (y/[n])? y\n"
     ]
    }
   ],
   "source": [
    "%reset"
   ]
  },
  {
   "cell_type": "code",
   "execution_count": 98,
   "metadata": {},
   "outputs": [
    {
     "name": "stdout",
     "output_type": "stream",
     "text": [
      "Interactive namespace is empty.\n"
     ]
    }
   ],
   "source": [
    "%whos"
   ]
  },
  {
   "cell_type": "code",
   "execution_count": 99,
   "metadata": {},
   "outputs": [],
   "source": [
    "from icf import *"
   ]
  },
  {
   "cell_type": "code",
   "execution_count": 5,
   "metadata": {},
   "outputs": [
    {
     "name": "stdout",
     "output_type": "stream",
     "text": [
      "Variable     Type      Data/Info\n",
      "--------------------------------\n",
      "icf_multi    module    <module 'icf.icf_multi' f<...>wler\\\\icf\\\\icf_multi.py'>\n",
      "icf_single   module    <module 'icf.icf_single' <...>ler\\\\icf\\\\icf_single.py'>\n"
     ]
    }
   ],
   "source": [
    "%whos"
   ]
  },
  {
   "cell_type": "code",
   "execution_count": 4,
   "metadata": {},
   "outputs": [],
   "source": [
    "from icf import *"
   ]
  },
  {
   "cell_type": "code",
   "execution_count": null,
   "metadata": {},
   "outputs": [],
   "source": []
  }
 ],
 "metadata": {
  "kernelspec": {
   "display_name": "Python 3",
   "language": "python",
   "name": "python3"
  },
  "language_info": {
   "codemirror_mode": {
    "name": "ipython",
    "version": 3
   },
   "file_extension": ".py",
   "mimetype": "text/x-python",
   "name": "python",
   "nbconvert_exporter": "python",
   "pygments_lexer": "ipython3",
   "version": "3.7.6"
  }
 },
 "nbformat": 4,
 "nbformat_minor": 4
}
